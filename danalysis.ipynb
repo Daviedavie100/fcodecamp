{
  "nbformat": 4,
  "nbformat_minor": 0,
  "metadata": {
    "colab": {
      "provenance": [],
      "toc_visible": true,
      "authorship_tag": "ABX9TyMqVQYPg5x8rUpUhLfyTzXG",
      "include_colab_link": true
    },
    "kernelspec": {
      "name": "python3",
      "display_name": "Python 3"
    },
    "language_info": {
      "name": "python"
    }
  },
  "cells": [
    {
      "cell_type": "markdown",
      "metadata": {
        "id": "view-in-github",
        "colab_type": "text"
      },
      "source": [
        "<a href=\"https://colab.research.google.com/github/Daviedavie100/freeCodeCamp/blob/main/danalysis.ipynb\" target=\"_parent\"><img src=\"https://colab.research.google.com/assets/colab-badge.svg\" alt=\"Open In Colab\"/></a>"
      ]
    },
    {
      "cell_type": "code",
      "execution_count": 321,
      "metadata": {
        "colab": {
          "base_uri": "https://localhost:8080/"
        },
        "id": "H35qO0r5BpxV",
        "outputId": "b897f2cf-dc5d-4ee0-f743-e67d4004f618"
      },
      "outputs": [
        {
          "output_type": "stream",
          "name": "stdout",
          "text": [
            "Number of each race:\n",
            " White                 27816\n",
            "Black                  3124\n",
            "Asian-Pac-Islander     1039\n",
            "Amer-Indian-Eskimo      311\n",
            "Other                   271\n",
            "Name: race, dtype: int64\n",
            "Average age of men: 39.4\n",
            "Percentage with Bachelors degrees: 16.4%\n",
            "Percentage with higher education that earn >50K: 46.5%\n",
            "Percentage without higher education that earn >50K: 17.4%\n",
            "Min work time: 1 hours/week\n",
            "Percentage of rich among those who work fewest hours: 10.0%\n",
            "Country with highest percentage of rich: Iran\n",
            "Highest percentage of rich people in country: 41.9%\n",
            "Top occupations in India: Prof-specialty\n"
          ]
        },
        {
          "output_type": "execute_result",
          "data": {
            "text/plain": [
              "{'race_count': White                 27816\n",
              " Black                  3124\n",
              " Asian-Pac-Islander     1039\n",
              " Amer-Indian-Eskimo      311\n",
              " Other                   271\n",
              " Name: race, dtype: int64,\n",
              " 'average_age_men': 39.4,\n",
              " 'percentage_bachelors': 16.4,\n",
              " 'higher_education_rich': 46.5,\n",
              " 'lower_education_rich': 17.4,\n",
              " 'min_work_hours': 1,\n",
              " 'rich_percentage': 10.0,\n",
              " 'highest_earning_country': 'Iran',\n",
              " 'highest_earning_country_percentage': 41.9,\n",
              " 'top_IN_occupation': 'Prof-specialty'}"
            ]
          },
          "metadata": {},
          "execution_count": 321
        }
      ],
      "source": [
        "import pandas as pd\n",
        "\n",
        "\n",
        "def calculate_demographic_data(print_data=True):\n",
        "    df=pd.read_csv('/adult.data.csv')\n",
        "    \n",
        "\n",
        "    # How many of each race are represented in this dataset? This should be a Pandas series with race names as the index labels.\n",
        "    race_count = df.loc[:,\"race\"].value_counts()\n",
        "\n",
        "    # What is the average age of men?\n",
        "    average_age_men = round(df[df.loc[:,'sex']==\"Male\"].loc[:,\"age\"].mean(),1)\n",
        "\n",
        "    # What is the percentage of people who have a Bachelor's degree?\n",
        "    percentage_bachelors = round(100*(df.loc[:, 'education'].value_counts().loc[\"Bachelors\"]/df.loc[:, 'education'].value_counts().sum()),1)\n",
        "\n",
        "    # What percentage of people with advanced education (`Bachelors`, `Masters`, or `Doctorate`) make more than 50K?\n",
        "    # What percentage of people without advanced education make more than 50K?\n",
        "\n",
        "    # with and without `Bachelors`, `Masters`, or `Doctorate`\n",
        "    higher_education = df.loc[(df['salary']=='>50K') & ((df['education']=='Bachelors') | (df['education']=='Masters') | (df['education']=='Doctorate'))].loc[:, 'education'].value_counts().sum()\n",
        "    lower_education = df.loc[(df['salary']=='>50K') & (df['education']!='Bachelors') & (df['education']!='Masters') & (df['education']!='Doctorate')].loc[:, 'education'].value_counts().sum()\n",
        "\n",
        "    # percentage with salary >50K\n",
        "    higher_education_rich = round(100*(higher_education/df.loc[(df['education']=='Bachelors') | (df['education']=='Masters') | (df['education']=='Doctorate')].loc[:, 'education'].value_counts().sum()),1)\n",
        "    lower_education_rich = round(100*(lower_education/df.loc[(df['education']!='Bachelors') & (df['education']!='Masters') & (df['education']!='Doctorate')].loc[:, 'education'].value_counts().sum()),1)\n",
        "\n",
        "    # What is the minimum number of hours a person works per week (hours-per-week feature)?\n",
        "    min_work_hours = df.loc[:, 'hours-per-week'].min()\n",
        "\n",
        "    # What percentage of the people who work the minimum number of hours per week have a salary of >50K?\n",
        "    num_min_workers = df[df.loc[:,'hours-per-week']==min_work_hours].loc[:, 'salary'].value_counts().loc[\">50K\"]\n",
        "\n",
        "    rich_percentage = round(100*(num_min_workers/df[df.loc[:, 'hours-per-week']==min_work_hours].loc[:, 'hours-per-week'].sum()),1)\n",
        "\n",
        "    # What country has the highest percentage of people that earn >50K?\n",
        "    highest_earning_country = round(100*(df[df.loc[:,'salary']=='>50K'].loc[:, 'native-country'].value_counts()/df.loc[:, 'native-country'].value_counts()),1).sort_values(ascending=False).index[0]\n",
        "    highest_earning_country_percentage = round(100*(df[df.loc[:,'salary']=='>50K'].loc[:, 'native-country'].value_counts()/df.loc[:, 'native-country'].value_counts()),1).sort_values(ascending=False).max()\n",
        "\n",
        "    # Identify the most popular occupation for those who earn >50K in India.\n",
        "    top_IN_occupation = df.loc[(df['salary']=='>50K') &(df['native-country']=='India')].loc[:, 'occupation'].value_counts().index[0]\n",
        "\n",
        "    # DO NOT MODIFY BELOW THIS LINE\n",
        "\n",
        "    if print_data:\n",
        "        print(\"Number of each race:\\n\", race_count) \n",
        "        print(\"Average age of men:\", average_age_men)\n",
        "        print(f\"Percentage with Bachelors degrees: {percentage_bachelors}%\")\n",
        "        print(f\"Percentage with higher education that earn >50K: {higher_education_rich}%\")\n",
        "        print(f\"Percentage without higher education that earn >50K: {lower_education_rich}%\")\n",
        "        print(f\"Min work time: {min_work_hours} hours/week\")\n",
        "        print(f\"Percentage of rich among those who work fewest hours: {rich_percentage}%\")\n",
        "        print(\"Country with highest percentage of rich:\", highest_earning_country)\n",
        "        print(f\"Highest percentage of rich people in country: {highest_earning_country_percentage}%\")\n",
        "        print(\"Top occupations in India:\", top_IN_occupation)\n",
        "\n",
        "    return {\n",
        "        'race_count': race_count,\n",
        "        'average_age_men': average_age_men,\n",
        "        'percentage_bachelors': percentage_bachelors,\n",
        "        'higher_education_rich': higher_education_rich,\n",
        "        'lower_education_rich': lower_education_rich,\n",
        "        'min_work_hours': min_work_hours,\n",
        "        'rich_percentage': rich_percentage,\n",
        "        'highest_earning_country': highest_earning_country,\n",
        "        'highest_earning_country_percentage': highest_earning_country_percentage,\n",
        "        'top_IN_occupation': top_IN_occupation\n",
        "    }\n",
        "\n",
        "calculate_demographic_data()"
      ]
    },
    {
      "cell_type": "code",
      "source": [
        "from pickle import FALSE\n",
        "from pandas._libs.tslibs.fields import RoundTo\n",
        "from pandas.io.parsers.readers import read_csv\n",
        "import pandas as pd\n",
        "df=read_csv('/adult.data.csv')\n",
        "#df\n",
        "min_work_hours = df.loc[:, 'hours-per-week'].min()\n",
        "\n",
        "df[df.loc[:,'hours-per-week']==min_work_hours].loc[:, 'salary'].value_counts().loc[\">50K\"]\n",
        "\n",
        "df[df.loc[:, 'hours-per-week']==min_work_hours].loc[:, 'hours-per-week'].sum()\n",
        "\n",
        "#.value_counts().sum()\n"
      ],
      "metadata": {
        "colab": {
          "base_uri": "https://localhost:8080/"
        },
        "id": "uinn65QdVtVy",
        "outputId": "7aeb5a72-0d89-4f7c-b2ba-b4888c2e14e8"
      },
      "execution_count": 320,
      "outputs": [
        {
          "output_type": "execute_result",
          "data": {
            "text/plain": [
              "20"
            ]
          },
          "metadata": {},
          "execution_count": 320
        }
      ]
    }
  ]
}