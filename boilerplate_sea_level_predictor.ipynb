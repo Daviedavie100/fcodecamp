{
  "nbformat": 4,
  "nbformat_minor": 0,
  "metadata": {
    "colab": {
      "provenance": [],
      "authorship_tag": "ABX9TyNZ32KbVZlaeafKSs7xJgT0",
      "include_colab_link": true
    },
    "kernelspec": {
      "name": "python3",
      "display_name": "Python 3"
    },
    "language_info": {
      "name": "python"
    }
  },
  "cells": [
    {
      "cell_type": "markdown",
      "metadata": {
        "id": "view-in-github",
        "colab_type": "text"
      },
      "source": [
        "<a href=\"https://colab.research.google.com/github/Daviedavie100/freeCodeCamp/blob/main/boilerplate_sea_level_predictor.ipynb\" target=\"_parent\"><img src=\"https://colab.research.google.com/assets/colab-badge.svg\" alt=\"Open In Colab\"/></a>"
      ]
    },
    {
      "cell_type": "code",
      "execution_count": 86,
      "metadata": {
        "colab": {
          "base_uri": "https://localhost:8080/",
          "height": 424
        },
        "id": "EEsdQjQNtPkF",
        "outputId": "136770ea-5fe7-43ea-b927-0c470b34e375"
      },
      "outputs": [
        {
          "output_type": "execute_result",
          "data": {
            "text/plain": [
              "     Year  CSIRO Adjusted Sea Level  Lower Error Bound  Upper Error Bound  \\\n",
              "0    1880                  0.000000          -0.952756           0.952756   \n",
              "1    1881                  0.220472          -0.732283           1.173228   \n",
              "2    1882                 -0.440945          -1.346457           0.464567   \n",
              "3    1883                 -0.232283          -1.129921           0.665354   \n",
              "4    1884                  0.590551          -0.283465           1.464567   \n",
              "..    ...                       ...                ...                ...   \n",
              "129  2009                  8.586614           8.311024           8.862205   \n",
              "130  2010                  8.901575           8.618110           9.185039   \n",
              "131  2011                  8.964567           8.661417           9.267717   \n",
              "132  2012                  9.326772           8.992126           9.661417   \n",
              "133  2013                  8.980315           8.622047           9.338583   \n",
              "\n",
              "     NOAA Adjusted Sea Level  \n",
              "0                        NaN  \n",
              "1                        NaN  \n",
              "2                        NaN  \n",
              "3                        NaN  \n",
              "4                        NaN  \n",
              "..                       ...  \n",
              "129                 8.046354  \n",
              "130                 8.122973  \n",
              "131                 8.053065  \n",
              "132                 8.457058  \n",
              "133                 8.546648  \n",
              "\n",
              "[134 rows x 5 columns]"
            ],
            "text/html": [
              "\n",
              "  <div id=\"df-1cf01fd1-921e-49d0-a982-1604985c7659\">\n",
              "    <div class=\"colab-df-container\">\n",
              "      <div>\n",
              "<style scoped>\n",
              "    .dataframe tbody tr th:only-of-type {\n",
              "        vertical-align: middle;\n",
              "    }\n",
              "\n",
              "    .dataframe tbody tr th {\n",
              "        vertical-align: top;\n",
              "    }\n",
              "\n",
              "    .dataframe thead th {\n",
              "        text-align: right;\n",
              "    }\n",
              "</style>\n",
              "<table border=\"1\" class=\"dataframe\">\n",
              "  <thead>\n",
              "    <tr style=\"text-align: right;\">\n",
              "      <th></th>\n",
              "      <th>Year</th>\n",
              "      <th>CSIRO Adjusted Sea Level</th>\n",
              "      <th>Lower Error Bound</th>\n",
              "      <th>Upper Error Bound</th>\n",
              "      <th>NOAA Adjusted Sea Level</th>\n",
              "    </tr>\n",
              "  </thead>\n",
              "  <tbody>\n",
              "    <tr>\n",
              "      <th>0</th>\n",
              "      <td>1880</td>\n",
              "      <td>0.000000</td>\n",
              "      <td>-0.952756</td>\n",
              "      <td>0.952756</td>\n",
              "      <td>NaN</td>\n",
              "    </tr>\n",
              "    <tr>\n",
              "      <th>1</th>\n",
              "      <td>1881</td>\n",
              "      <td>0.220472</td>\n",
              "      <td>-0.732283</td>\n",
              "      <td>1.173228</td>\n",
              "      <td>NaN</td>\n",
              "    </tr>\n",
              "    <tr>\n",
              "      <th>2</th>\n",
              "      <td>1882</td>\n",
              "      <td>-0.440945</td>\n",
              "      <td>-1.346457</td>\n",
              "      <td>0.464567</td>\n",
              "      <td>NaN</td>\n",
              "    </tr>\n",
              "    <tr>\n",
              "      <th>3</th>\n",
              "      <td>1883</td>\n",
              "      <td>-0.232283</td>\n",
              "      <td>-1.129921</td>\n",
              "      <td>0.665354</td>\n",
              "      <td>NaN</td>\n",
              "    </tr>\n",
              "    <tr>\n",
              "      <th>4</th>\n",
              "      <td>1884</td>\n",
              "      <td>0.590551</td>\n",
              "      <td>-0.283465</td>\n",
              "      <td>1.464567</td>\n",
              "      <td>NaN</td>\n",
              "    </tr>\n",
              "    <tr>\n",
              "      <th>...</th>\n",
              "      <td>...</td>\n",
              "      <td>...</td>\n",
              "      <td>...</td>\n",
              "      <td>...</td>\n",
              "      <td>...</td>\n",
              "    </tr>\n",
              "    <tr>\n",
              "      <th>129</th>\n",
              "      <td>2009</td>\n",
              "      <td>8.586614</td>\n",
              "      <td>8.311024</td>\n",
              "      <td>8.862205</td>\n",
              "      <td>8.046354</td>\n",
              "    </tr>\n",
              "    <tr>\n",
              "      <th>130</th>\n",
              "      <td>2010</td>\n",
              "      <td>8.901575</td>\n",
              "      <td>8.618110</td>\n",
              "      <td>9.185039</td>\n",
              "      <td>8.122973</td>\n",
              "    </tr>\n",
              "    <tr>\n",
              "      <th>131</th>\n",
              "      <td>2011</td>\n",
              "      <td>8.964567</td>\n",
              "      <td>8.661417</td>\n",
              "      <td>9.267717</td>\n",
              "      <td>8.053065</td>\n",
              "    </tr>\n",
              "    <tr>\n",
              "      <th>132</th>\n",
              "      <td>2012</td>\n",
              "      <td>9.326772</td>\n",
              "      <td>8.992126</td>\n",
              "      <td>9.661417</td>\n",
              "      <td>8.457058</td>\n",
              "    </tr>\n",
              "    <tr>\n",
              "      <th>133</th>\n",
              "      <td>2013</td>\n",
              "      <td>8.980315</td>\n",
              "      <td>8.622047</td>\n",
              "      <td>9.338583</td>\n",
              "      <td>8.546648</td>\n",
              "    </tr>\n",
              "  </tbody>\n",
              "</table>\n",
              "<p>134 rows × 5 columns</p>\n",
              "</div>\n",
              "      <button class=\"colab-df-convert\" onclick=\"convertToInteractive('df-1cf01fd1-921e-49d0-a982-1604985c7659')\"\n",
              "              title=\"Convert this dataframe to an interactive table.\"\n",
              "              style=\"display:none;\">\n",
              "        \n",
              "  <svg xmlns=\"http://www.w3.org/2000/svg\" height=\"24px\"viewBox=\"0 0 24 24\"\n",
              "       width=\"24px\">\n",
              "    <path d=\"M0 0h24v24H0V0z\" fill=\"none\"/>\n",
              "    <path d=\"M18.56 5.44l.94 2.06.94-2.06 2.06-.94-2.06-.94-.94-2.06-.94 2.06-2.06.94zm-11 1L8.5 8.5l.94-2.06 2.06-.94-2.06-.94L8.5 2.5l-.94 2.06-2.06.94zm10 10l.94 2.06.94-2.06 2.06-.94-2.06-.94-.94-2.06-.94 2.06-2.06.94z\"/><path d=\"M17.41 7.96l-1.37-1.37c-.4-.4-.92-.59-1.43-.59-.52 0-1.04.2-1.43.59L10.3 9.45l-7.72 7.72c-.78.78-.78 2.05 0 2.83L4 21.41c.39.39.9.59 1.41.59.51 0 1.02-.2 1.41-.59l7.78-7.78 2.81-2.81c.8-.78.8-2.07 0-2.86zM5.41 20L4 18.59l7.72-7.72 1.47 1.35L5.41 20z\"/>\n",
              "  </svg>\n",
              "      </button>\n",
              "      \n",
              "  <style>\n",
              "    .colab-df-container {\n",
              "      display:flex;\n",
              "      flex-wrap:wrap;\n",
              "      gap: 12px;\n",
              "    }\n",
              "\n",
              "    .colab-df-convert {\n",
              "      background-color: #E8F0FE;\n",
              "      border: none;\n",
              "      border-radius: 50%;\n",
              "      cursor: pointer;\n",
              "      display: none;\n",
              "      fill: #1967D2;\n",
              "      height: 32px;\n",
              "      padding: 0 0 0 0;\n",
              "      width: 32px;\n",
              "    }\n",
              "\n",
              "    .colab-df-convert:hover {\n",
              "      background-color: #E2EBFA;\n",
              "      box-shadow: 0px 1px 2px rgba(60, 64, 67, 0.3), 0px 1px 3px 1px rgba(60, 64, 67, 0.15);\n",
              "      fill: #174EA6;\n",
              "    }\n",
              "\n",
              "    [theme=dark] .colab-df-convert {\n",
              "      background-color: #3B4455;\n",
              "      fill: #D2E3FC;\n",
              "    }\n",
              "\n",
              "    [theme=dark] .colab-df-convert:hover {\n",
              "      background-color: #434B5C;\n",
              "      box-shadow: 0px 1px 3px 1px rgba(0, 0, 0, 0.15);\n",
              "      filter: drop-shadow(0px 1px 2px rgba(0, 0, 0, 0.3));\n",
              "      fill: #FFFFFF;\n",
              "    }\n",
              "  </style>\n",
              "\n",
              "      <script>\n",
              "        const buttonEl =\n",
              "          document.querySelector('#df-1cf01fd1-921e-49d0-a982-1604985c7659 button.colab-df-convert');\n",
              "        buttonEl.style.display =\n",
              "          google.colab.kernel.accessAllowed ? 'block' : 'none';\n",
              "\n",
              "        async function convertToInteractive(key) {\n",
              "          const element = document.querySelector('#df-1cf01fd1-921e-49d0-a982-1604985c7659');\n",
              "          const dataTable =\n",
              "            await google.colab.kernel.invokeFunction('convertToInteractive',\n",
              "                                                     [key], {});\n",
              "          if (!dataTable) return;\n",
              "\n",
              "          const docLinkHtml = 'Like what you see? Visit the ' +\n",
              "            '<a target=\"_blank\" href=https://colab.research.google.com/notebooks/data_table.ipynb>data table notebook</a>'\n",
              "            + ' to learn more about interactive tables.';\n",
              "          element.innerHTML = '';\n",
              "          dataTable['output_type'] = 'display_data';\n",
              "          await google.colab.output.renderOutput(dataTable, element);\n",
              "          const docLink = document.createElement('div');\n",
              "          docLink.innerHTML = docLinkHtml;\n",
              "          element.appendChild(docLink);\n",
              "        }\n",
              "      </script>\n",
              "    </div>\n",
              "  </div>\n",
              "  "
            ]
          },
          "metadata": {},
          "execution_count": 86
        }
      ],
      "source": [
        "import pandas as pd\n",
        "import matplotlib.pyplot as plt\n",
        "from scipy.stats import linregress\n",
        "#from scipy import stats\n",
        "\n",
        "df=pd.read_csv('/content/sample_data/epa-sea-level.csv')\n",
        "df"
      ]
    },
    {
      "cell_type": "code",
      "source": [
        "#define data for x axis\n",
        "x=df['Year']\n",
        "x_pred = pd.Series([i for i in range (1880, 2050)])\n",
        "x_pred"
      ],
      "metadata": {
        "colab": {
          "base_uri": "https://localhost:8080/"
        },
        "id": "bpWdLtyQBhxy",
        "outputId": "204cf7a2-2f50-43bf-fcda-536a09d36c07"
      },
      "execution_count": 90,
      "outputs": [
        {
          "output_type": "stream",
          "name": "stdout",
          "text": [
            "0      1880\n",
            "1      1881\n",
            "2      1882\n",
            "3      1883\n",
            "4      1884\n",
            "       ... \n",
            "165    2045\n",
            "166    2046\n",
            "167    2047\n",
            "168    2048\n",
            "169    2049\n",
            "Length: 170, dtype: int64\n"
          ]
        }
      ]
    },
    {
      "cell_type": "code",
      "source": [
        "#define data for y axis\n",
        "y = df['CSIRO Adjusted Sea Level']\n",
        "y"
      ],
      "metadata": {
        "colab": {
          "base_uri": "https://localhost:8080/"
        },
        "id": "AB5vbsvzBxvG",
        "outputId": "aaf1830e-d389-44bf-c8d7-55cc429d8277"
      },
      "execution_count": 94,
      "outputs": [
        {
          "output_type": "stream",
          "name": "stdout",
          "text": [
            "0      0.000000\n",
            "1      0.220472\n",
            "2     -0.440945\n",
            "3     -0.232283\n",
            "4      0.590551\n",
            "         ...   \n",
            "129    8.586614\n",
            "130    8.901575\n",
            "131    8.964567\n",
            "132    9.326772\n",
            "133    8.980315\n",
            "Name: CSIRO Adjusted Sea Level, Length: 134, dtype: float64\n"
          ]
        }
      ]
    },
    {
      "cell_type": "code",
      "source": [
        "# Create scatter plot\n",
        "'''Use matplotlib to create a scatter plot using the Year column as the x-axis and the \n",
        "CSIRO Adjusted Sea Level column as the y-axix.'''\n",
        "\n",
        "# Create scatter plot\n",
        "fig= plt.figure(figsize=(8,4))\n",
        "plt.plot(x, y, 'o', label='original data')\n",
        "\n",
        "# Get slope, intercept from linregress() to plot y' = intercept + slope*x\n",
        "(slope, intercept, rvalue, pvalue, stderr) = linregress(x, y)\n",
        "\n",
        "# Plot linear regression line.\n",
        "# Create first line of best fit\n",
        "#lineA = linregress(x, y)\n",
        "#yA = x_first*lineA.slope + lineA.intercept\n",
        "\n",
        "#plt.plot(x_first,yA);\n",
        "y_pred=intercept + slope*x_pred\n",
        "plt.plot(x_pred,y_pred, color=\"r\", label=\"Fitted line\")\n",
        "\n",
        "\n",
        "# Create first line of best fit\n",
        "\n",
        "#find line of best fit\n",
        "#a, b = np.polyfit(x, y, 1)\n",
        "#a,b,c= np.polyfit(x,y, 2)\n",
        "#slope, intercept, r, p, se = linregress(x, y)\n",
        "#res = stats.linregress(x, y)\n",
        "\n",
        "#add points to plot\n",
        "#plt.scatter(x, y)\n",
        "\n",
        "#add line of best fit to plot\n",
        "#plt.plot(x, a*x+b)     \n",
        "\n",
        "#add line of best fit to plot\n",
        "#plt.plot(x, a*x**2+b*x+c, color='red', linestyle='-', linewidth=1)\n",
        "\n",
        "#add fitted regression equation to plot\n",
        "#plt.text(1, 17, 'y = ' + '{:.2f}'.format(b) + ' + {:.2f}'.format(a) + 'x', size=14)\n",
        "\n",
        "# Add labels and title\n",
        "plt.title('Rise in Sea Level')\n",
        "plt.xlabel('Y ear')\n",
        "plt.ylabel('Sea Level (inches)')\n",
        "plt.legend();\n",
        "plt.show();\n",
        "\n"
      ],
      "metadata": {
        "colab": {
          "base_uri": "https://localhost:8080/",
          "height": 295
        },
        "id": "4OSlrvgDwg8v",
        "outputId": "0f602e7c-21c3-4a34-f3bd-db891694d2f2"
      },
      "execution_count": 96,
      "outputs": [
        {
          "output_type": "display_data",
          "data": {
            "text/plain": [
              "<Figure size 576x288 with 1 Axes>"
            ],
            "image/png": "[encoded data removed]"
          },
          "metadata": {
            "needs_background": "light"
          }
        }
      ]
    },
    {
      "cell_type": "code",
      "source": [
        "# Create scatter plot\n",
        "\n",
        "\n",
        "  # Create first line of best fit\n",
        "\n",
        "\n",
        "  # Create second line of best fit\n",
        "\n",
        "\n",
        "  # Add labels and title\n",
        "plt.xlabel('Year')\n",
        "plt.ylabel('Sea Level (inches)')"
      ],
      "metadata": {
        "id": "hzuAFKp6wiMA"
      },
      "execution_count": null,
      "outputs": []
    },
    {
      "cell_type": "code",
      "source": [
        "# Create first line of best fit\n",
        "lineA = linregress(df['Year'], df['CSIRO Adjusted Sea Level'])\n",
        "xA = np.arange(df['Year'].min(),2050,1)\n",
        "yA = xA*lineA.slope + lineA.intercept\n",
        "\n",
        "plt.plot(xA,yA);\n",
        "\n",
        "plt.plot(x, y, 'o', label='original data')\n",
        "#plt.plot(x, res.intercept + res.slope*x, 'r', label='fitted line')\n",
        "#plt.xlim(1875,2055)\n",
        "#plt.legend();\n",
        "#plt.show();"
      ],
      "metadata": {
        "id": "eP5CZrfGwjGR",
        "colab": {
          "base_uri": "https://localhost:8080/",
          "height": 282
        },
        "outputId": "b0298fe7-77ee-49d3-9f3d-0fe9dfd29333"
      },
      "execution_count": 80,
      "outputs": [
        {
          "output_type": "execute_result",
          "data": {
            "text/plain": [
              "[<matplotlib.lines.Line2D at 0x7f2e53d9dbb0>]"
            ]
          },
          "metadata": {},
          "execution_count": 80
        },
        {
          "output_type": "display_data",
          "data": {
            "text/plain": [
              "<Figure size 432x288 with 1 Axes>"
            ],
            "image/png": "[encoded data removed]"
          },
          "metadata": {
            "needs_background": "light"
          }
        }
      ]
    },
    {
      "cell_type": "code",
      "source": [
        "import pandas as pd\n",
        "import matplotlib.pyplot as plt\n",
        "from scipy.stats import linregress\n",
        "\n",
        "\n",
        "import pandas as pd\n",
        "import matplotlib.pyplot as plt\n",
        "from scipy.stats import linregress\n",
        "\n",
        "\n",
        "def draw_plot():\n",
        "  # Read data from file\n",
        "  df = pd.read_csv('epa-sea-level.csv')\n",
        "\n",
        "  #define data\n",
        "  x = df['Year']\n",
        "  y = df['CSIRO Adjusted Sea Level']\n",
        "\n",
        "  # Create scatter plot\n",
        "  fig, ax = plt.subplots()\n",
        "  plt.scatter(x, y)\n",
        "\n",
        "  # Get slope, intercept from linregress\n",
        "  res = linregress(x, y)\n",
        "\n",
        "  # Create first line of best fit\n",
        "  x_pred = pd.Series([i for i in range(1880, 2051)])\n",
        "  y_pred = res.intercept + res.slope * x_pred\n",
        "  plt.plot(x_pred, y_pred, color=\"r\")\n",
        "\n",
        "  # Create second line of best fit\n",
        "  df_2000 = df.loc[df['Year'] >= 2000]\n",
        "  x_2000 = df_2000['Year']\n",
        "  y_2000 = df_2000['CSIRO Adjusted Sea Level']\n",
        "  res_2000 = linregress(x_2000, y_2000)\n",
        "  x_pred2000 = pd.Series([i for i in range(2000, 2051)])\n",
        "  y_pred2000 = res_2000.intercept + res_2000.slope * x_pred2000\n",
        "  plt.plot(x_pred2000, y_pred2000, color=\"r\")\n",
        "\n",
        "  # Add labels and title\n",
        "  plt.title('Rise in Sea Level')\n",
        "  plt.xlabel('Year')\n",
        "  plt.ylabel('Sea Level (inches)')\n",
        "\n",
        "  # Save plot and return data for testing (DO NOT MODIFY)\n",
        "  plt.savefig('sea_level_plot.png')\n",
        "  return plt.gca()"
      ],
      "metadata": {
        "id": "gOaRIdxpX2qx"
      },
      "execution_count": 98,
      "outputs": []
    }
  ]
}