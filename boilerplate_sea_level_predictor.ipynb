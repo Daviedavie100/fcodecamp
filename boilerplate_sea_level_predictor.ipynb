{
  "cells": [
    {
      "attachments": {},
      "cell_type": "markdown",
      "metadata": {
        "colab_type": "text",
        "id": "view-in-github"
      },
      "source": [
        "#### create open with link"
      ]
    },
    {
      "attachments": {},
      "cell_type": "markdown",
      "metadata": {},
      "source": [
        "<a href=\"https://colab.research.google.com/github/Daviedavie100/freeCodeCamp/blob/main/boilerplate_sea_level_predictor.ipynb\" target=\"_parent\"><img src=\"https://colab.research.google.com/assets/colab-badge.svg\" alt=\"Open In Colab\"/></a>"
      ]
    },
    {
      "attachments": {},
      "cell_type": "markdown",
      "metadata": {
        "colab": {
          "base_uri": "https://localhost:8080/",
          "height": 424
        },
        "id": "EEsdQjQNtPkF",
        "outputId": "136770ea-5fe7-43ea-b927-0c470b34e375"
      },
      "source": [
        "#### install scipy"
      ]
    },
    {
      "cell_type": "code",
      "execution_count": 1,
      "metadata": {},
      "outputs": [],
      "source": [
        "#%conda install scipy\n",
        "#%conda install statsmodels"
      ]
    },
    {
      "cell_type": "code",
      "execution_count": 2,
      "metadata": {},
      "outputs": [],
      "source": [
        "#load imports\n",
        "import pandas as pd\n",
        "import matplotlib.pyplot as plt\n",
        "from scipy.stats import linregress\n",
        "import statsmodels.api as sm"
      ]
    },
    {
      "cell_type": "code",
      "execution_count": 3,
      "metadata": {},
      "outputs": [
        {
          "data": {
            "text/html": [
              "<div>\n",
              "<style scoped>\n",
              "    .dataframe tbody tr th:only-of-type {\n",
              "        vertical-align: middle;\n",
              "    }\n",
              "\n",
              "    .dataframe tbody tr th {\n",
              "        vertical-align: top;\n",
              "    }\n",
              "\n",
              "    .dataframe thead th {\n",
              "        text-align: right;\n",
              "    }\n",
              "</style>\n",
              "<table border=\"1\" class=\"dataframe\">\n",
              "  <thead>\n",
              "    <tr style=\"text-align: right;\">\n",
              "      <th></th>\n",
              "      <th>Year</th>\n",
              "      <th>CSIRO Adjusted Sea Level</th>\n",
              "      <th>Lower Error Bound</th>\n",
              "      <th>Upper Error Bound</th>\n",
              "      <th>NOAA Adjusted Sea Level</th>\n",
              "    </tr>\n",
              "  </thead>\n",
              "  <tbody>\n",
              "    <tr>\n",
              "      <th>0</th>\n",
              "      <td>1880</td>\n",
              "      <td>0.000000</td>\n",
              "      <td>-0.952756</td>\n",
              "      <td>0.952756</td>\n",
              "      <td>NaN</td>\n",
              "    </tr>\n",
              "    <tr>\n",
              "      <th>1</th>\n",
              "      <td>1881</td>\n",
              "      <td>0.220472</td>\n",
              "      <td>-0.732283</td>\n",
              "      <td>1.173228</td>\n",
              "      <td>NaN</td>\n",
              "    </tr>\n",
              "    <tr>\n",
              "      <th>2</th>\n",
              "      <td>1882</td>\n",
              "      <td>-0.440945</td>\n",
              "      <td>-1.346457</td>\n",
              "      <td>0.464567</td>\n",
              "      <td>NaN</td>\n",
              "    </tr>\n",
              "    <tr>\n",
              "      <th>3</th>\n",
              "      <td>1883</td>\n",
              "      <td>-0.232283</td>\n",
              "      <td>-1.129921</td>\n",
              "      <td>0.665354</td>\n",
              "      <td>NaN</td>\n",
              "    </tr>\n",
              "    <tr>\n",
              "      <th>4</th>\n",
              "      <td>1884</td>\n",
              "      <td>0.590551</td>\n",
              "      <td>-0.283465</td>\n",
              "      <td>1.464567</td>\n",
              "      <td>NaN</td>\n",
              "    </tr>\n",
              "    <tr>\n",
              "      <th>5</th>\n",
              "      <td>1885</td>\n",
              "      <td>0.531496</td>\n",
              "      <td>-0.330709</td>\n",
              "      <td>1.393701</td>\n",
              "      <td>NaN</td>\n",
              "    </tr>\n",
              "    <tr>\n",
              "      <th>6</th>\n",
              "      <td>1886</td>\n",
              "      <td>0.437008</td>\n",
              "      <td>-0.381890</td>\n",
              "      <td>1.255906</td>\n",
              "      <td>NaN</td>\n",
              "    </tr>\n",
              "    <tr>\n",
              "      <th>7</th>\n",
              "      <td>1887</td>\n",
              "      <td>0.216535</td>\n",
              "      <td>-0.602362</td>\n",
              "      <td>1.035433</td>\n",
              "      <td>NaN</td>\n",
              "    </tr>\n",
              "    <tr>\n",
              "      <th>8</th>\n",
              "      <td>1888</td>\n",
              "      <td>0.299213</td>\n",
              "      <td>-0.519685</td>\n",
              "      <td>1.118110</td>\n",
              "      <td>NaN</td>\n",
              "    </tr>\n",
              "    <tr>\n",
              "      <th>9</th>\n",
              "      <td>1889</td>\n",
              "      <td>0.362205</td>\n",
              "      <td>-0.456693</td>\n",
              "      <td>1.181102</td>\n",
              "      <td>NaN</td>\n",
              "    </tr>\n",
              "  </tbody>\n",
              "</table>\n",
              "</div>"
            ],
            "text/plain": [
              "   Year  CSIRO Adjusted Sea Level  Lower Error Bound  Upper Error Bound  \\\n",
              "0  1880                  0.000000          -0.952756           0.952756   \n",
              "1  1881                  0.220472          -0.732283           1.173228   \n",
              "2  1882                 -0.440945          -1.346457           0.464567   \n",
              "3  1883                 -0.232283          -1.129921           0.665354   \n",
              "4  1884                  0.590551          -0.283465           1.464567   \n",
              "5  1885                  0.531496          -0.330709           1.393701   \n",
              "6  1886                  0.437008          -0.381890           1.255906   \n",
              "7  1887                  0.216535          -0.602362           1.035433   \n",
              "8  1888                  0.299213          -0.519685           1.118110   \n",
              "9  1889                  0.362205          -0.456693           1.181102   \n",
              "\n",
              "   NOAA Adjusted Sea Level  \n",
              "0                      NaN  \n",
              "1                      NaN  \n",
              "2                      NaN  \n",
              "3                      NaN  \n",
              "4                      NaN  \n",
              "5                      NaN  \n",
              "6                      NaN  \n",
              "7                      NaN  \n",
              "8                      NaN  \n",
              "9                      NaN  "
            ]
          },
          "execution_count": 3,
          "metadata": {},
          "output_type": "execute_result"
        }
      ],
      "source": [
        "# read the dataset\n",
        "df=pd.read_csv('C:/Users/Davie/Documents/GitHub/freeCodeCamp/data/epa-sea-level.csv')\n",
        "df.head(10)"
      ]
    },
    {
      "cell_type": "code",
      "execution_count": 4,
      "metadata": {
        "colab": {
          "base_uri": "https://localhost:8080/"
        },
        "id": "bpWdLtyQBhxy",
        "outputId": "204cf7a2-2f50-43bf-fcda-536a09d36c07"
      },
      "outputs": [
        {
          "data": {
            "text/plain": [
              "0      1880\n",
              "1      1881\n",
              "2      1882\n",
              "3      1883\n",
              "4      1884\n",
              "       ... \n",
              "129    2009\n",
              "130    2010\n",
              "131    2011\n",
              "132    2012\n",
              "133    2013\n",
              "Name: Year, Length: 134, dtype: int64"
            ]
          },
          "execution_count": 4,
          "metadata": {},
          "output_type": "execute_result"
        }
      ],
      "source": [
        "#define data for x axis\n",
        "x=df['Year']\n",
        "x"
      ]
    },
    {
      "cell_type": "code",
      "execution_count": 5,
      "metadata": {
        "colab": {
          "base_uri": "https://localhost:8080/"
        },
        "id": "AB5vbsvzBxvG",
        "outputId": "aaf1830e-d389-44bf-c8d7-55cc429d8277"
      },
      "outputs": [
        {
          "data": {
            "text/plain": [
              "0      0.000000\n",
              "1      0.220472\n",
              "2     -0.440945\n",
              "3     -0.232283\n",
              "4      0.590551\n",
              "         ...   \n",
              "129    8.586614\n",
              "130    8.901575\n",
              "131    8.964567\n",
              "132    9.326772\n",
              "133    8.980315\n",
              "Name: CSIRO Adjusted Sea Level, Length: 134, dtype: float64"
            ]
          },
          "execution_count": 5,
          "metadata": {},
          "output_type": "execute_result"
        }
      ],
      "source": [
        "#define data for y axis\n",
        "y = df['CSIRO Adjusted Sea Level']\n",
        "y"
      ]
    },
    {
      "attachments": {},
      "cell_type": "markdown",
      "metadata": {},
      "source": [
        "#### Simple scatter plot"
      ]
    },
    {
      "cell_type": "code",
      "execution_count": 6,
      "metadata": {},
      "outputs": [
        {
          "data": {
            "image/png": "[encoded data removed]",
            "text/plain": [
              "<Figure size 720x432 with 1 Axes>"
            ]
          },
          "metadata": {
            "needs_background": "light"
          },
          "output_type": "display_data"
        }
      ],
      "source": [
        "# Create scatter plot\n",
        "'''Use matplotlib to create a scatter plot using the Year column as the x-axis and the \n",
        "CSIRO Adjusted Sea Level column as the y-axix.'''\n",
        "\n",
        "fig, ax = plt.subplots(figsize=(10,6))\n",
        "plt.scatter(x, y)\n",
        "plt.show();"
      ]
    },
    {
      "cell_type": "markdown",
      "metadata": {},
      "source": [
        "#### Scatter plot with line of best fit \n",
        "- predictive model for sea level upto the year 2050"
      ]
    },
    {
      "cell_type": "code",
      "execution_count": 7,
      "metadata": {},
      "outputs": [
        {
          "data": {
            "text/plain": [
              "0      1880\n",
              "1      1881\n",
              "2      1882\n",
              "3      1883\n",
              "4      1884\n",
              "       ... \n",
              "165    2045\n",
              "166    2046\n",
              "167    2047\n",
              "168    2048\n",
              "169    2049\n",
              "Length: 170, dtype: int64"
            ]
          },
          "execution_count": 7,
          "metadata": {},
          "output_type": "execute_result"
        }
      ],
      "source": [
        "#define data for x axis\n",
        "x_pred = pd.Series([i for i in range (1880, 2050)])\n",
        "x_pred"
      ]
    },
    {
      "cell_type": "code",
      "execution_count": 8,
      "metadata": {},
      "outputs": [
        {
          "data": {
            "text/plain": [
              "0      -0.542124\n",
              "1      -0.479079\n",
              "2      -0.416035\n",
              "3      -0.352990\n",
              "4      -0.289946\n",
              "         ...    \n",
              "165     9.860232\n",
              "166     9.923277\n",
              "167     9.986322\n",
              "168    10.049366\n",
              "169    10.112411\n",
              "Length: 170, dtype: float64"
            ]
          },
          "execution_count": 8,
          "metadata": {},
          "output_type": "execute_result"
        }
      ],
      "source": [
        "# Get slope, intercept from linregress() to plot y' = intercept + slope*x\n",
        "(slope, intercept, rvalue, pvalue, stderr) = linregress(x, y)\n",
        "\n",
        "#Create first line of best fit\n",
        "y_pred=intercept + slope*x_pred\n",
        "y_pred"
      ]
    },
    {
      "cell_type": "code",
      "execution_count": 9,
      "metadata": {},
      "outputs": [
        {
          "data": {
            "image/png": "[encoded data removed]",
            "text/plain": [
              "<Figure size 720x432 with 1 Axes>"
            ]
          },
          "metadata": {
            "needs_background": "light"
          },
          "output_type": "display_data"
        }
      ],
      "source": [
        "# Create scatter plot\n",
        "'''Use matplotlib to create a scatter plot using the Year column as the x-axis and the \n",
        "CSIRO Adjusted Sea Level column as the y-axix.'''\n",
        "\n",
        "fig, ax = plt.subplots(figsize=(10,6))\n",
        "plt.scatter(x, y, label='original data')\n",
        "\n",
        "label='fitted line:''y = ' + '{:.2f}'.format(intercept) + ' + {:.2f}'.format(slope) + 'x'\n",
        "# Plot linear regression line.\n",
        "plt.plot(x_pred,y_pred, color=\"r\", label=label)\n",
        "\n",
        "plt.title('Rise in Sea Level')\n",
        "plt.xlabel('Year')\n",
        "plt.ylabel('Sea Level (inches)')\n",
        "plt.legend()\n",
        "plt.show();"
      ]
    },
    {
      "attachments": {},
      "cell_type": "markdown",
      "metadata": {
        "colab": {
          "base_uri": "https://localhost:8080/",
          "height": 295
        },
        "id": "4OSlrvgDwg8v",
        "outputId": "0f602e7c-21c3-4a34-f3bd-db891694d2f2"
      },
      "source": [
        "#### Create second plot\n",
        "- Get slope, intercept from linregress() to plot y' = intercept + slope*x\n",
        "- (slope, intercept, rvalue, pvalue, stderr) = linregress(x, y)"
      ]
    },
    {
      "cell_type": "code",
      "execution_count": 10,
      "metadata": {
        "id": "hzuAFKp6wiMA"
      },
      "outputs": [
        {
          "data": {
            "text/html": [
              "<div>\n",
              "<style scoped>\n",
              "    .dataframe tbody tr th:only-of-type {\n",
              "        vertical-align: middle;\n",
              "    }\n",
              "\n",
              "    .dataframe tbody tr th {\n",
              "        vertical-align: top;\n",
              "    }\n",
              "\n",
              "    .dataframe thead th {\n",
              "        text-align: right;\n",
              "    }\n",
              "</style>\n",
              "<table border=\"1\" class=\"dataframe\">\n",
              "  <thead>\n",
              "    <tr style=\"text-align: right;\">\n",
              "      <th></th>\n",
              "      <th>Year</th>\n",
              "      <th>CSIRO Adjusted Sea Level</th>\n",
              "      <th>Lower Error Bound</th>\n",
              "      <th>Upper Error Bound</th>\n",
              "      <th>NOAA Adjusted Sea Level</th>\n",
              "    </tr>\n",
              "  </thead>\n",
              "  <tbody>\n",
              "    <tr>\n",
              "      <th>120</th>\n",
              "      <td>2000</td>\n",
              "      <td>7.062992</td>\n",
              "      <td>6.791339</td>\n",
              "      <td>7.334646</td>\n",
              "      <td>6.920582</td>\n",
              "    </tr>\n",
              "    <tr>\n",
              "      <th>121</th>\n",
              "      <td>2001</td>\n",
              "      <td>7.287402</td>\n",
              "      <td>7.019685</td>\n",
              "      <td>7.555118</td>\n",
              "      <td>7.087460</td>\n",
              "    </tr>\n",
              "    <tr>\n",
              "      <th>122</th>\n",
              "      <td>2002</td>\n",
              "      <td>7.381890</td>\n",
              "      <td>7.110236</td>\n",
              "      <td>7.653543</td>\n",
              "      <td>7.319698</td>\n",
              "    </tr>\n",
              "    <tr>\n",
              "      <th>123</th>\n",
              "      <td>2003</td>\n",
              "      <td>7.759843</td>\n",
              "      <td>7.484252</td>\n",
              "      <td>8.035433</td>\n",
              "      <td>7.488353</td>\n",
              "    </tr>\n",
              "    <tr>\n",
              "      <th>124</th>\n",
              "      <td>2004</td>\n",
              "      <td>7.740157</td>\n",
              "      <td>7.464567</td>\n",
              "      <td>8.015748</td>\n",
              "      <td>7.507933</td>\n",
              "    </tr>\n",
              "    <tr>\n",
              "      <th>125</th>\n",
              "      <td>2005</td>\n",
              "      <td>7.744094</td>\n",
              "      <td>7.472441</td>\n",
              "      <td>8.015748</td>\n",
              "      <td>7.644563</td>\n",
              "    </tr>\n",
              "    <tr>\n",
              "      <th>126</th>\n",
              "      <td>2006</td>\n",
              "      <td>7.917323</td>\n",
              "      <td>7.645669</td>\n",
              "      <td>8.188976</td>\n",
              "      <td>7.697420</td>\n",
              "    </tr>\n",
              "    <tr>\n",
              "      <th>127</th>\n",
              "      <td>2007</td>\n",
              "      <td>7.996063</td>\n",
              "      <td>7.712598</td>\n",
              "      <td>8.279528</td>\n",
              "      <td>7.702147</td>\n",
              "    </tr>\n",
              "    <tr>\n",
              "      <th>128</th>\n",
              "      <td>2008</td>\n",
              "      <td>8.350394</td>\n",
              "      <td>8.078740</td>\n",
              "      <td>8.622047</td>\n",
              "      <td>7.907365</td>\n",
              "    </tr>\n",
              "    <tr>\n",
              "      <th>129</th>\n",
              "      <td>2009</td>\n",
              "      <td>8.586614</td>\n",
              "      <td>8.311024</td>\n",
              "      <td>8.862205</td>\n",
              "      <td>8.046354</td>\n",
              "    </tr>\n",
              "    <tr>\n",
              "      <th>130</th>\n",
              "      <td>2010</td>\n",
              "      <td>8.901575</td>\n",
              "      <td>8.618110</td>\n",
              "      <td>9.185039</td>\n",
              "      <td>8.122973</td>\n",
              "    </tr>\n",
              "    <tr>\n",
              "      <th>131</th>\n",
              "      <td>2011</td>\n",
              "      <td>8.964567</td>\n",
              "      <td>8.661417</td>\n",
              "      <td>9.267717</td>\n",
              "      <td>8.053065</td>\n",
              "    </tr>\n",
              "    <tr>\n",
              "      <th>132</th>\n",
              "      <td>2012</td>\n",
              "      <td>9.326772</td>\n",
              "      <td>8.992126</td>\n",
              "      <td>9.661417</td>\n",
              "      <td>8.457058</td>\n",
              "    </tr>\n",
              "    <tr>\n",
              "      <th>133</th>\n",
              "      <td>2013</td>\n",
              "      <td>8.980315</td>\n",
              "      <td>8.622047</td>\n",
              "      <td>9.338583</td>\n",
              "      <td>8.546648</td>\n",
              "    </tr>\n",
              "  </tbody>\n",
              "</table>\n",
              "</div>"
            ],
            "text/plain": [
              "     Year  CSIRO Adjusted Sea Level  Lower Error Bound  Upper Error Bound  \\\n",
              "120  2000                  7.062992           6.791339           7.334646   \n",
              "121  2001                  7.287402           7.019685           7.555118   \n",
              "122  2002                  7.381890           7.110236           7.653543   \n",
              "123  2003                  7.759843           7.484252           8.035433   \n",
              "124  2004                  7.740157           7.464567           8.015748   \n",
              "125  2005                  7.744094           7.472441           8.015748   \n",
              "126  2006                  7.917323           7.645669           8.188976   \n",
              "127  2007                  7.996063           7.712598           8.279528   \n",
              "128  2008                  8.350394           8.078740           8.622047   \n",
              "129  2009                  8.586614           8.311024           8.862205   \n",
              "130  2010                  8.901575           8.618110           9.185039   \n",
              "131  2011                  8.964567           8.661417           9.267717   \n",
              "132  2012                  9.326772           8.992126           9.661417   \n",
              "133  2013                  8.980315           8.622047           9.338583   \n",
              "\n",
              "     NOAA Adjusted Sea Level  \n",
              "120                 6.920582  \n",
              "121                 7.087460  \n",
              "122                 7.319698  \n",
              "123                 7.488353  \n",
              "124                 7.507933  \n",
              "125                 7.644563  \n",
              "126                 7.697420  \n",
              "127                 7.702147  \n",
              "128                 7.907365  \n",
              "129                 8.046354  \n",
              "130                 8.122973  \n",
              "131                 8.053065  \n",
              "132                 8.457058  \n",
              "133                 8.546648  "
            ]
          },
          "execution_count": 10,
          "metadata": {},
          "output_type": "execute_result"
        }
      ],
      "source": [
        " # Create second line of best fit\n",
        "df_2000 = df.loc[df['Year'] >= 2000]\n",
        "df_2000"
      ]
    },
    {
      "cell_type": "code",
      "execution_count": 11,
      "metadata": {},
      "outputs": [
        {
          "data": {
            "text/plain": [
              "120    2000\n",
              "121    2001\n",
              "122    2002\n",
              "123    2003\n",
              "124    2004\n",
              "125    2005\n",
              "126    2006\n",
              "127    2007\n",
              "128    2008\n",
              "129    2009\n",
              "130    2010\n",
              "131    2011\n",
              "132    2012\n",
              "133    2013\n",
              "Name: Year, dtype: int64"
            ]
          },
          "execution_count": 11,
          "metadata": {},
          "output_type": "execute_result"
        }
      ],
      "source": [
        "x_2000 = df_2000['Year']\n",
        "x_2000"
      ]
    },
    {
      "cell_type": "code",
      "execution_count": 12,
      "metadata": {},
      "outputs": [
        {
          "data": {
            "text/plain": [
              "120    7.062992\n",
              "121    7.287402\n",
              "122    7.381890\n",
              "123    7.759843\n",
              "124    7.740157\n",
              "125    7.744094\n",
              "126    7.917323\n",
              "127    7.996063\n",
              "128    8.350394\n",
              "129    8.586614\n",
              "130    8.901575\n",
              "131    8.964567\n",
              "132    9.326772\n",
              "133    8.980315\n",
              "Name: CSIRO Adjusted Sea Level, dtype: float64"
            ]
          },
          "execution_count": 12,
          "metadata": {},
          "output_type": "execute_result"
        }
      ],
      "source": [
        "y_2000 = df_2000['CSIRO Adjusted Sea Level']\n",
        "y_2000"
      ]
    },
    {
      "cell_type": "code",
      "execution_count": 13,
      "metadata": {},
      "outputs": [
        {
          "data": {
            "text/plain": [
              "LinregressResult(slope=0.16642727333186808, intercept=-325.79346680596467, rvalue=0.976287571614062, pvalue=2.4388064141616947e-09, stderr=0.010652933111541106)"
            ]
          },
          "execution_count": 13,
          "metadata": {},
          "output_type": "execute_result"
        }
      ],
      "source": [
        "res_2000 = linregress(x_2000, y_2000)\n",
        "res_2000"
      ]
    },
    {
      "cell_type": "code",
      "execution_count": 14,
      "metadata": {},
      "outputs": [
        {
          "data": {
            "text/plain": [
              "0     2000\n",
              "1     2001\n",
              "2     2002\n",
              "3     2003\n",
              "4     2004\n",
              "5     2005\n",
              "6     2006\n",
              "7     2007\n",
              "8     2008\n",
              "9     2009\n",
              "10    2010\n",
              "11    2011\n",
              "12    2012\n",
              "13    2013\n",
              "14    2014\n",
              "15    2015\n",
              "16    2016\n",
              "17    2017\n",
              "18    2018\n",
              "19    2019\n",
              "20    2020\n",
              "21    2021\n",
              "22    2022\n",
              "23    2023\n",
              "24    2024\n",
              "25    2025\n",
              "26    2026\n",
              "27    2027\n",
              "28    2028\n",
              "29    2029\n",
              "30    2030\n",
              "31    2031\n",
              "32    2032\n",
              "33    2033\n",
              "34    2034\n",
              "35    2035\n",
              "36    2036\n",
              "37    2037\n",
              "38    2038\n",
              "39    2039\n",
              "40    2040\n",
              "41    2041\n",
              "42    2042\n",
              "43    2043\n",
              "44    2044\n",
              "45    2045\n",
              "46    2046\n",
              "47    2047\n",
              "48    2048\n",
              "49    2049\n",
              "50    2050\n",
              "dtype: int64"
            ]
          },
          "execution_count": 14,
          "metadata": {},
          "output_type": "execute_result"
        }
      ],
      "source": [
        "x_pred2000 = pd.Series([i for i in range(2000, 2051)])\n",
        "x_pred2000"
      ]
    },
    {
      "cell_type": "code",
      "execution_count": 15,
      "metadata": {},
      "outputs": [
        {
          "data": {
            "text/plain": [
              "0      7.061080\n",
              "1      7.227507\n",
              "2      7.393934\n",
              "3      7.560362\n",
              "4      7.726789\n",
              "5      7.893216\n",
              "6      8.059643\n",
              "7      8.226071\n",
              "8      8.392498\n",
              "9      8.558925\n",
              "10     8.725353\n",
              "11     8.891780\n",
              "12     9.058207\n",
              "13     9.224634\n",
              "14     9.391062\n",
              "15     9.557489\n",
              "16     9.723916\n",
              "17     9.890344\n",
              "18    10.056771\n",
              "19    10.223198\n",
              "20    10.389625\n",
              "21    10.556053\n",
              "22    10.722480\n",
              "23    10.888907\n",
              "24    11.055334\n",
              "25    11.221762\n",
              "26    11.388189\n",
              "27    11.554616\n",
              "28    11.721044\n",
              "29    11.887471\n",
              "30    12.053898\n",
              "31    12.220325\n",
              "32    12.386753\n",
              "33    12.553180\n",
              "34    12.719607\n",
              "35    12.886034\n",
              "36    13.052462\n",
              "37    13.218889\n",
              "38    13.385316\n",
              "39    13.551744\n",
              "40    13.718171\n",
              "41    13.884598\n",
              "42    14.051025\n",
              "43    14.217453\n",
              "44    14.383880\n",
              "45    14.550307\n",
              "46    14.716734\n",
              "47    14.883162\n",
              "48    15.049589\n",
              "49    15.216016\n",
              "50    15.382444\n",
              "dtype: float64"
            ]
          },
          "execution_count": 15,
          "metadata": {},
          "output_type": "execute_result"
        }
      ],
      "source": [
        "y_pred2000 = res_2000.intercept + res_2000.slope * x_pred2000\n",
        "y_pred2000"
      ]
    },
    {
      "cell_type": "code",
      "execution_count": 16,
      "metadata": {},
      "outputs": [
        {
          "data": {
            "image/png": "[encoded data removed]",
            "text/plain": [
              "<Figure size 720x432 with 1 Axes>"
            ]
          },
          "metadata": {
            "needs_background": "light"
          },
          "output_type": "display_data"
        }
      ],
      "source": [
        "# Create scatter plot\n",
        "'''Use matplotlib to create a scatter plot using the Year column as the x-axis and the \n",
        "CSIRO Adjusted Sea Level column as the y-axix.'''\n",
        "\n",
        "fig, ax = plt.subplots(figsize=(10,6))\n",
        "plt.scatter(x, y, label='original data')\n",
        "\n",
        "label='fitted line:''y = ' + '{:.2f}'.format(intercept) + ' + {:.2f}'.format(slope) + 'x'\n",
        "# Plot linear regression line.\n",
        "plt.plot(x_pred,y_pred, color=\"red\", label=label)\n",
        "\n",
        "# Create second line of best fit\n",
        "plt.plot(x_pred2000, y_pred2000, color=\"black\")\n",
        "\n",
        "plt.title('Rise in Sea Level')\n",
        "plt.xlabel('Year')\n",
        "plt.ylabel('Sea Level (inches)')\n",
        "plt.legend()\n",
        "plt.show();"
      ]
    },
    {
      "cell_type": "markdown",
      "metadata": {},
      "source": [
        "#### function "
      ]
    },
    {
      "cell_type": "code",
      "execution_count": 17,
      "metadata": {
        "id": "gOaRIdxpX2qx"
      },
      "outputs": [
        {
          "data": {
            "image/png": "[encoded data removed]",
            "text/plain": [
              "<Figure size 720x432 with 1 Axes>"
            ]
          },
          "metadata": {
            "needs_background": "light"
          },
          "output_type": "display_data"
        }
      ],
      "source": [
        "import pandas as pd\n",
        "import matplotlib.pyplot as plt\n",
        "from scipy.stats import linregress\n",
        "\n",
        "def draw_plot():\n",
        "  # Read data from file\n",
        "  df = pd.read_csv('C:/Users/Davie/Documents/GitHub/freeCodeCamp/data/epa-sea-level.csv')\n",
        "\n",
        "  #define data\n",
        "  x = df['Year']\n",
        "  y = df['CSIRO Adjusted Sea Level']\n",
        "\n",
        "  # Create scatter plot\n",
        "  fig, ax = plt.subplots(figsize=(10,6))\n",
        "  plt.scatter(x, y, color='green')\n",
        "\n",
        "  # Get slope, intercept from linregress\n",
        "  res = linregress(x, y)\n",
        "\n",
        "  # Create first line of best fit\n",
        "  x_pred = pd.Series([i for i in range(1880, 2051)])\n",
        "  y_pred = res.intercept + res.slope * x_pred\n",
        "  plt.plot(x_pred, y_pred, color=\"black\")\n",
        "\n",
        "  # Create second line of best fit\n",
        "  df_2000 = df.loc[df['Year'] >= 2000]\n",
        "  x_2000 = df_2000['Year']\n",
        "  y_2000 = df_2000['CSIRO Adjusted Sea Level']\n",
        "  res_2000 = linregress(x_2000, y_2000)\n",
        "  x_pred2000 = pd.Series([i for i in range(2000, 2051)])\n",
        "  y_pred2000 = res_2000.intercept + res_2000.slope * x_pred2000\n",
        "  plt.plot(x_pred2000, y_pred2000, color=\"red\")\n",
        "\n",
        "  # Add labels and title\n",
        "  plt.title('Rise in Sea Level')\n",
        "  plt.xlabel('Year')\n",
        "  plt.ylabel('Sea Level (inches)')\n",
        "\n",
        "  # Save plot and return data for testing (DO NOT MODIFY)\n",
        "  plt.savefig('sea_level_plot.png')\n",
        "  return plt.gca()\n",
        "draw_plot();"
      ]
    },
    {
      "attachments": {},
      "cell_type": "markdown",
      "metadata": {},
      "source": [
        "##%conda update -n base -c defaults conda"
      ]
    }
  ],
  "metadata": {
    "colab": {
      "authorship_tag": "ABX9TyNZ32KbVZlaeafKSs7xJgT0",
      "include_colab_link": true,
      "provenance": []
    },
    "kernelspec": {
      "display_name": "uscholar_py3.6_env",
      "language": "python",
      "name": "python3"
    },
    "language_info": {
      "codemirror_mode": {
        "name": "ipython",
        "version": 3
      },
      "file_extension": ".py",
      "mimetype": "text/x-python",
      "name": "python",
      "nbconvert_exporter": "python",
      "pygments_lexer": "ipython3",
      "version": "3.6.13"
    },
    "vscode": {
      "interpreter": {
        "hash": "14cc4e34e04f4ba3d98eca5b8d97c4885c74db2d903e7730daddeefc5c0d30b2"
      }
    }
  },
  "nbformat": 4,
  "nbformat_minor": 0
}
