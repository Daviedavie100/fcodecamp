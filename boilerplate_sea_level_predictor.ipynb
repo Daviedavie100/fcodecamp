{
  "cells": [
    {
      "attachments": {},
      "cell_type": "markdown",
      "metadata": {
        "colab_type": "text",
        "id": "view-in-github"
      },
      "source": [
        "#### create open with link"
      ]
    },
    {
      "attachments": {},
      "cell_type": "markdown",
      "metadata": {},
      "source": [
        "<a href=\"https://colab.research.google.com/github/Daviedavie100/freeCodeCamp/blob/main/boilerplate_sea_level_predictor.ipynb\" target=\"_parent\"><img src=\"https://colab.research.google.com/assets/colab-badge.svg\" alt=\"Open In Colab\"/></a>"
      ]
    },
    {
      "attachments": {},
      "cell_type": "markdown",
      "metadata": {
        "colab": {
          "base_uri": "https://localhost:8080/",
          "height": 424
        },
        "id": "EEsdQjQNtPkF",
        "outputId": "136770ea-5fe7-43ea-b927-0c470b34e375"
      },
      "source": [
        "#### install scipy"
      ]
    },
    {
      "cell_type": "code",
      "execution_count": null,
      "metadata": {},
      "outputs": [],
      "source": [
        "%conda install scipy"
      ]
    },
    {
      "cell_type": "code",
      "execution_count": 1,
      "metadata": {},
      "outputs": [],
      "source": [
        "#load imports\n",
        "import pandas as pd\n",
        "import matplotlib.pyplot as plt\n",
        "from scipy.stats import linregress"
      ]
    },
    {
      "cell_type": "code",
      "execution_count": 2,
      "metadata": {},
      "outputs": [
        {
          "data": {
            "text/html": [
              "<div>\n",
              "<style scoped>\n",
              "    .dataframe tbody tr th:only-of-type {\n",
              "        vertical-align: middle;\n",
              "    }\n",
              "\n",
              "    .dataframe tbody tr th {\n",
              "        vertical-align: top;\n",
              "    }\n",
              "\n",
              "    .dataframe thead th {\n",
              "        text-align: right;\n",
              "    }\n",
              "</style>\n",
              "<table border=\"1\" class=\"dataframe\">\n",
              "  <thead>\n",
              "    <tr style=\"text-align: right;\">\n",
              "      <th></th>\n",
              "      <th>Year</th>\n",
              "      <th>CSIRO Adjusted Sea Level</th>\n",
              "      <th>Lower Error Bound</th>\n",
              "      <th>Upper Error Bound</th>\n",
              "      <th>NOAA Adjusted Sea Level</th>\n",
              "    </tr>\n",
              "  </thead>\n",
              "  <tbody>\n",
              "    <tr>\n",
              "      <th>0</th>\n",
              "      <td>1880</td>\n",
              "      <td>0.000000</td>\n",
              "      <td>-0.952756</td>\n",
              "      <td>0.952756</td>\n",
              "      <td>NaN</td>\n",
              "    </tr>\n",
              "    <tr>\n",
              "      <th>1</th>\n",
              "      <td>1881</td>\n",
              "      <td>0.220472</td>\n",
              "      <td>-0.732283</td>\n",
              "      <td>1.173228</td>\n",
              "      <td>NaN</td>\n",
              "    </tr>\n",
              "    <tr>\n",
              "      <th>2</th>\n",
              "      <td>1882</td>\n",
              "      <td>-0.440945</td>\n",
              "      <td>-1.346457</td>\n",
              "      <td>0.464567</td>\n",
              "      <td>NaN</td>\n",
              "    </tr>\n",
              "    <tr>\n",
              "      <th>3</th>\n",
              "      <td>1883</td>\n",
              "      <td>-0.232283</td>\n",
              "      <td>-1.129921</td>\n",
              "      <td>0.665354</td>\n",
              "      <td>NaN</td>\n",
              "    </tr>\n",
              "    <tr>\n",
              "      <th>4</th>\n",
              "      <td>1884</td>\n",
              "      <td>0.590551</td>\n",
              "      <td>-0.283465</td>\n",
              "      <td>1.464567</td>\n",
              "      <td>NaN</td>\n",
              "    </tr>\n",
              "    <tr>\n",
              "      <th>5</th>\n",
              "      <td>1885</td>\n",
              "      <td>0.531496</td>\n",
              "      <td>-0.330709</td>\n",
              "      <td>1.393701</td>\n",
              "      <td>NaN</td>\n",
              "    </tr>\n",
              "    <tr>\n",
              "      <th>6</th>\n",
              "      <td>1886</td>\n",
              "      <td>0.437008</td>\n",
              "      <td>-0.381890</td>\n",
              "      <td>1.255906</td>\n",
              "      <td>NaN</td>\n",
              "    </tr>\n",
              "    <tr>\n",
              "      <th>7</th>\n",
              "      <td>1887</td>\n",
              "      <td>0.216535</td>\n",
              "      <td>-0.602362</td>\n",
              "      <td>1.035433</td>\n",
              "      <td>NaN</td>\n",
              "    </tr>\n",
              "    <tr>\n",
              "      <th>8</th>\n",
              "      <td>1888</td>\n",
              "      <td>0.299213</td>\n",
              "      <td>-0.519685</td>\n",
              "      <td>1.118110</td>\n",
              "      <td>NaN</td>\n",
              "    </tr>\n",
              "    <tr>\n",
              "      <th>9</th>\n",
              "      <td>1889</td>\n",
              "      <td>0.362205</td>\n",
              "      <td>-0.456693</td>\n",
              "      <td>1.181102</td>\n",
              "      <td>NaN</td>\n",
              "    </tr>\n",
              "  </tbody>\n",
              "</table>\n",
              "</div>"
            ],
            "text/plain": [
              "   Year  CSIRO Adjusted Sea Level  Lower Error Bound  Upper Error Bound  \\\n",
              "0  1880                  0.000000          -0.952756           0.952756   \n",
              "1  1881                  0.220472          -0.732283           1.173228   \n",
              "2  1882                 -0.440945          -1.346457           0.464567   \n",
              "3  1883                 -0.232283          -1.129921           0.665354   \n",
              "4  1884                  0.590551          -0.283465           1.464567   \n",
              "5  1885                  0.531496          -0.330709           1.393701   \n",
              "6  1886                  0.437008          -0.381890           1.255906   \n",
              "7  1887                  0.216535          -0.602362           1.035433   \n",
              "8  1888                  0.299213          -0.519685           1.118110   \n",
              "9  1889                  0.362205          -0.456693           1.181102   \n",
              "\n",
              "   NOAA Adjusted Sea Level  \n",
              "0                      NaN  \n",
              "1                      NaN  \n",
              "2                      NaN  \n",
              "3                      NaN  \n",
              "4                      NaN  \n",
              "5                      NaN  \n",
              "6                      NaN  \n",
              "7                      NaN  \n",
              "8                      NaN  \n",
              "9                      NaN  "
            ]
          },
          "execution_count": 2,
          "metadata": {},
          "output_type": "execute_result"
        }
      ],
      "source": [
        "# read the dataset\n",
        "df=pd.read_csv('C:/Users/Davie/Documents/GitHub/freeCodeCamp/data/epa-sea-level.csv')\n",
        "df.head(10)"
      ]
    },
    {
      "cell_type": "code",
      "execution_count": 3,
      "metadata": {
        "colab": {
          "base_uri": "https://localhost:8080/"
        },
        "id": "bpWdLtyQBhxy",
        "outputId": "204cf7a2-2f50-43bf-fcda-536a09d36c07"
      },
      "outputs": [
        {
          "data": {
            "text/plain": [
              "0      1880\n",
              "1      1881\n",
              "2      1882\n",
              "3      1883\n",
              "4      1884\n",
              "       ... \n",
              "129    2009\n",
              "130    2010\n",
              "131    2011\n",
              "132    2012\n",
              "133    2013\n",
              "Name: Year, Length: 134, dtype: int64"
            ]
          },
          "execution_count": 3,
          "metadata": {},
          "output_type": "execute_result"
        }
      ],
      "source": [
        "#define data for x axis\n",
        "x=df['Year']\n",
        "x_pred = pd.Series([i for i in range (1880, 2050)])\n",
        "x"
      ]
    },
    {
      "cell_type": "code",
      "execution_count": 4,
      "metadata": {
        "colab": {
          "base_uri": "https://localhost:8080/"
        },
        "id": "AB5vbsvzBxvG",
        "outputId": "aaf1830e-d389-44bf-c8d7-55cc429d8277"
      },
      "outputs": [
        {
          "data": {
            "text/plain": [
              "0      0.000000\n",
              "1      0.220472\n",
              "2     -0.440945\n",
              "3     -0.232283\n",
              "4      0.590551\n",
              "         ...   \n",
              "129    8.586614\n",
              "130    8.901575\n",
              "131    8.964567\n",
              "132    9.326772\n",
              "133    8.980315\n",
              "Name: CSIRO Adjusted Sea Level, Length: 134, dtype: float64"
            ]
          },
          "execution_count": 4,
          "metadata": {},
          "output_type": "execute_result"
        }
      ],
      "source": [
        "#define data for y axis\n",
        "y = df['CSIRO Adjusted Sea Level']\n",
        "y"
      ]
    },
    {
      "cell_type": "code",
      "execution_count": 8,
      "metadata": {},
      "outputs": [
        {
          "data": {
            "image/png": "[encoded data removed]",
            "text/plain": [
              "<Figure size 576x288 with 1 Axes>"
            ]
          },
          "metadata": {
            "needs_background": "light"
          },
          "output_type": "display_data"
        }
      ],
      "source": [
        "# Create scatter plot\n",
        "'''Use matplotlib to create a scatter plot using the Year column as the x-axis and the \n",
        "CSIRO Adjusted Sea Level column as the y-axix.'''\n",
        "\n",
        "fig, ax = plt.subplots(figsize=(8,4))\n",
        "plt.scatter(x, y)\n",
        "plt.show();"
      ]
    },
    {
      "cell_type": "code",
      "execution_count": null,
      "metadata": {
        "colab": {
          "base_uri": "https://localhost:8080/",
          "height": 295
        },
        "id": "4OSlrvgDwg8v",
        "outputId": "0f602e7c-21c3-4a34-f3bd-db891694d2f2"
      },
      "outputs": [],
      "source": [
        "\n",
        "\n",
        "# Create scatter plot\n",
        "fig= plt.figure(figsize=(8,4))\n",
        "plt.plot(x, y, 'o', label='original data')\n",
        "\n",
        "# Get slope, intercept from linregress() to plot y' = intercept + slope*x\n",
        "(slope, intercept, rvalue, pvalue, stderr) = linregress(x, y)\n",
        "\n",
        "# Plot linear regression line.\n",
        "# Create first line of best fit\n",
        "#lineA = linregress(x, y)\n",
        "#yA = x_first*lineA.slope + lineA.intercept\n",
        "\n",
        "#plt.plot(x_first,yA);\n",
        "y_pred=intercept + slope*x_pred\n",
        "plt.plot(x_pred,y_pred, color=\"r\", label=\"Fitted line\")\n",
        "\n",
        "\n",
        "# Create first line of best fit\n",
        "\n",
        "#find line of best fit\n",
        "#a, b = np.polyfit(x, y, 1)\n",
        "#a,b,c= np.polyfit(x,y, 2)\n",
        "#slope, intercept, r, p, se = linregress(x, y)\n",
        "#res = stats.linregress(x, y)\n",
        "\n",
        "#add points to plot\n",
        "#plt.scatter(x, y)\n",
        "\n",
        "#add line of best fit to plot\n",
        "#plt.plot(x, a*x+b)     \n",
        "\n",
        "#add line of best fit to plot\n",
        "#plt.plot(x, a*x**2+b*x+c, color='red', linestyle='-', linewidth=1)\n",
        "\n",
        "#add fitted regression equation to plot\n",
        "#plt.text(1, 17, 'y = ' + '{:.2f}'.format(b) + ' + {:.2f}'.format(a) + 'x', size=14)\n",
        "\n",
        "# Add labels and title\n",
        "plt.title('Rise in Sea Level')\n",
        "plt.xlabel('Y ear')\n",
        "plt.ylabel('Sea Level (inches)')\n",
        "plt.legend()\n",
        "plt.show();\n",
        "\n"
      ]
    },
    {
      "cell_type": "code",
      "execution_count": null,
      "metadata": {
        "id": "hzuAFKp6wiMA"
      },
      "outputs": [],
      "source": [
        "# Create scatter plot\n",
        "\n",
        "\n",
        "  # Create first line of best fit\n",
        "\n",
        "\n",
        "  # Create second line of best fit\n",
        "\n",
        "\n",
        "  # Add labels and title\n",
        "plt.xlabel('Year')\n",
        "plt.ylabel('Sea Level (inches)')"
      ]
    },
    {
      "cell_type": "code",
      "execution_count": null,
      "metadata": {
        "colab": {
          "base_uri": "https://localhost:8080/",
          "height": 282
        },
        "id": "eP5CZrfGwjGR",
        "outputId": "b0298fe7-77ee-49d3-9f3d-0fe9dfd29333"
      },
      "outputs": [],
      "source": [
        "# Create first line of best fit\n",
        "lineA = linregress(df['Year'], df['CSIRO Adjusted Sea Level'])\n",
        "xA = np.arange(df['Year'].min(),2050,1)\n",
        "yA = xA*lineA.slope + lineA.intercept\n",
        "\n",
        "plt.plot(xA,yA);\n",
        "\n",
        "plt.plot(x, y, 'o', label='original data')\n",
        "#plt.plot(x, res.intercept + res.slope*x, 'r', label='fitted line')\n",
        "#plt.xlim(1875,2055)\n",
        "#plt.legend();\n",
        "#plt.show();"
      ]
    },
    {
      "cell_type": "code",
      "execution_count": null,
      "metadata": {
        "id": "gOaRIdxpX2qx"
      },
      "outputs": [],
      "source": [
        "import pandas as pd\n",
        "import matplotlib.pyplot as plt\n",
        "from scipy.stats import linregress\n",
        "\n",
        "\n",
        "import pandas as pd\n",
        "import matplotlib.pyplot as plt\n",
        "from scipy.stats import linregress\n",
        "\n",
        "\n",
        "def draw_plot():\n",
        "  # Read data from file\n",
        "  df = pd.read_csv('epa-sea-level.csv')\n",
        "\n",
        "  #define data\n",
        "  x = df['Year']\n",
        "  y = df['CSIRO Adjusted Sea Level']\n",
        "\n",
        "  # Create scatter plot\n",
        "  fig, ax = plt.subplots()\n",
        "  plt.scatter(x, y)\n",
        "\n",
        "  # Get slope, intercept from linregress\n",
        "  res = linregress(x, y)\n",
        "\n",
        "  # Create first line of best fit\n",
        "  x_pred = pd.Series([i for i in range(1880, 2051)])\n",
        "  y_pred = res.intercept + res.slope * x_pred\n",
        "  plt.plot(x_pred, y_pred, color=\"r\")\n",
        "\n",
        "  # Create second line of best fit\n",
        "  df_2000 = df.loc[df['Year'] >= 2000]\n",
        "  x_2000 = df_2000['Year']\n",
        "  y_2000 = df_2000['CSIRO Adjusted Sea Level']\n",
        "  res_2000 = linregress(x_2000, y_2000)\n",
        "  x_pred2000 = pd.Series([i for i in range(2000, 2051)])\n",
        "  y_pred2000 = res_2000.intercept + res_2000.slope * x_pred2000\n",
        "  plt.plot(x_pred2000, y_pred2000, color=\"r\")\n",
        "\n",
        "  # Add labels and title\n",
        "  plt.title('Rise in Sea Level')\n",
        "  plt.xlabel('Year')\n",
        "  plt.ylabel('Sea Level (inches)')\n",
        "\n",
        "  # Save plot and return data for testing (DO NOT MODIFY)\n",
        "  plt.savefig('sea_level_plot.png')\n",
        "  return plt.gca()"
      ]
    },
    {
      "cell_type": "code",
      "execution_count": null,
      "metadata": {},
      "outputs": [],
      "source": [
        "conda update -n base -c defaults conda"
      ]
    }
  ],
  "metadata": {
    "colab": {
      "authorship_tag": "ABX9TyNZ32KbVZlaeafKSs7xJgT0",
      "include_colab_link": true,
      "provenance": []
    },
    "kernelspec": {
      "display_name": "uscholar_py3.6_env",
      "language": "python",
      "name": "python3"
    },
    "language_info": {
      "codemirror_mode": {
        "name": "ipython",
        "version": 3
      },
      "file_extension": ".py",
      "mimetype": "text/x-python",
      "name": "python",
      "nbconvert_exporter": "python",
      "pygments_lexer": "ipython3",
      "version": "3.6.13"
    },
    "vscode": {
      "interpreter": {
        "hash": "14cc4e34e04f4ba3d98eca5b8d97c4885c74db2d903e7730daddeefc5c0d30b2"
      }
    }
  },
  "nbformat": 4,
  "nbformat_minor": 0
}
